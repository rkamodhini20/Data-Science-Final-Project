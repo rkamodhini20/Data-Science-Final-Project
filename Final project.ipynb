{
 "cells": [
  {
   "cell_type": "markdown",
   "id": "9cdcaf0e-ac23-4c37-bdbf-5108682f4771",
   "metadata": {},
   "source": [
    "<div class=\"alert alert-block alert-info\">\n",
    "<h3>Student Information</h3>\n",
    "<b>Name</b>: Amodhiniram Kanagarajan<br> \n",
    "<b>NetID</b>: AK2822<br>\n",
    "<b>Recitation #</b>: 04<br>"
   ]
  },
  {
   "cell_type": "markdown",
   "id": "2ba6ea6a-4f08-473a-8c84-d3b898b0d6e2",
   "metadata": {},
   "source": [
    "# CS 439 - Introduction to Data Science\n",
    "### Spring 2025\n",
    "\n",
    "## Final project"
   ]
  },
  {
   "cell_type": "markdown",
   "id": "25ae0264-f5f0-4300-89c8-210e4a5f536e",
   "metadata": {},
   "source": [
    "### Task 1: Load and Prepare Movie Metadata\n"
   ]
  },
  {
   "cell_type": "code",
   "execution_count": 212,
   "id": "482e88a5-fdc0-4d97-9569-5beee99f57f4",
   "metadata": {},
   "outputs": [
    {
     "data": {
      "text/html": [
       "<div>\n",
       "<style scoped>\n",
       "    .dataframe tbody tr th:only-of-type {\n",
       "        vertical-align: middle;\n",
       "    }\n",
       "\n",
       "    .dataframe tbody tr th {\n",
       "        vertical-align: top;\n",
       "    }\n",
       "\n",
       "    .dataframe thead th {\n",
       "        text-align: right;\n",
       "    }\n",
       "</style>\n",
       "<table border=\"1\" class=\"dataframe\">\n",
       "  <thead>\n",
       "    <tr style=\"text-align: right;\">\n",
       "      <th></th>\n",
       "      <th>title</th>\n",
       "      <th>overview</th>\n",
       "      <th>genres</th>\n",
       "      <th>keywords</th>\n",
       "      <th>cast</th>\n",
       "      <th>crew</th>\n",
       "    </tr>\n",
       "  </thead>\n",
       "  <tbody>\n",
       "    <tr>\n",
       "      <th>0</th>\n",
       "      <td>Toy Story</td>\n",
       "      <td>Led by Woody, Andy's toys live happily in his ...</td>\n",
       "      <td>[{'id': 16, 'name': 'Animation'}, {'id': 35, '...</td>\n",
       "      <td>[{'id': 931, 'name': 'jealousy'}, {'id': 4290,...</td>\n",
       "      <td>[{'cast_id': 14, 'character': 'Woody (voice)',...</td>\n",
       "      <td>[{'credit_id': '52fe4284c3a36847f8024f49', 'de...</td>\n",
       "    </tr>\n",
       "    <tr>\n",
       "      <th>1</th>\n",
       "      <td>Jumanji</td>\n",
       "      <td>When siblings Judy and Peter discover an encha...</td>\n",
       "      <td>[{'id': 12, 'name': 'Adventure'}, {'id': 14, '...</td>\n",
       "      <td>[{'id': 10090, 'name': 'board game'}, {'id': 1...</td>\n",
       "      <td>[{'cast_id': 1, 'character': 'Alan Parrish', '...</td>\n",
       "      <td>[{'credit_id': '52fe44bfc3a36847f80a7cd1', 'de...</td>\n",
       "    </tr>\n",
       "    <tr>\n",
       "      <th>2</th>\n",
       "      <td>Grumpier Old Men</td>\n",
       "      <td>A family wedding reignites the ancient feud be...</td>\n",
       "      <td>[{'id': 10749, 'name': 'Romance'}, {'id': 35, ...</td>\n",
       "      <td>[{'id': 1495, 'name': 'fishing'}, {'id': 12392...</td>\n",
       "      <td>[{'cast_id': 2, 'character': 'Max Goldman', 'c...</td>\n",
       "      <td>[{'credit_id': '52fe466a9251416c75077a89', 'de...</td>\n",
       "    </tr>\n",
       "    <tr>\n",
       "      <th>3</th>\n",
       "      <td>Waiting to Exhale</td>\n",
       "      <td>Cheated on, mistreated and stepped on, the wom...</td>\n",
       "      <td>[{'id': 35, 'name': 'Comedy'}, {'id': 18, 'nam...</td>\n",
       "      <td>[{'id': 818, 'name': 'based on novel'}, {'id':...</td>\n",
       "      <td>[{'cast_id': 1, 'character': \"Savannah 'Vannah...</td>\n",
       "      <td>[{'credit_id': '52fe44779251416c91011acb', 'de...</td>\n",
       "    </tr>\n",
       "    <tr>\n",
       "      <th>4</th>\n",
       "      <td>Father of the Bride Part II</td>\n",
       "      <td>Just when George Banks has recovered from his ...</td>\n",
       "      <td>[{'id': 35, 'name': 'Comedy'}]</td>\n",
       "      <td>[{'id': 1009, 'name': 'baby'}, {'id': 1599, 'n...</td>\n",
       "      <td>[{'cast_id': 1, 'character': 'George Banks', '...</td>\n",
       "      <td>[{'credit_id': '52fe44959251416c75039ed7', 'de...</td>\n",
       "    </tr>\n",
       "  </tbody>\n",
       "</table>\n",
       "</div>"
      ],
      "text/plain": [
       "                         title  \\\n",
       "0                    Toy Story   \n",
       "1                      Jumanji   \n",
       "2             Grumpier Old Men   \n",
       "3            Waiting to Exhale   \n",
       "4  Father of the Bride Part II   \n",
       "\n",
       "                                            overview  \\\n",
       "0  Led by Woody, Andy's toys live happily in his ...   \n",
       "1  When siblings Judy and Peter discover an encha...   \n",
       "2  A family wedding reignites the ancient feud be...   \n",
       "3  Cheated on, mistreated and stepped on, the wom...   \n",
       "4  Just when George Banks has recovered from his ...   \n",
       "\n",
       "                                              genres  \\\n",
       "0  [{'id': 16, 'name': 'Animation'}, {'id': 35, '...   \n",
       "1  [{'id': 12, 'name': 'Adventure'}, {'id': 14, '...   \n",
       "2  [{'id': 10749, 'name': 'Romance'}, {'id': 35, ...   \n",
       "3  [{'id': 35, 'name': 'Comedy'}, {'id': 18, 'nam...   \n",
       "4                     [{'id': 35, 'name': 'Comedy'}]   \n",
       "\n",
       "                                            keywords  \\\n",
       "0  [{'id': 931, 'name': 'jealousy'}, {'id': 4290,...   \n",
       "1  [{'id': 10090, 'name': 'board game'}, {'id': 1...   \n",
       "2  [{'id': 1495, 'name': 'fishing'}, {'id': 12392...   \n",
       "3  [{'id': 818, 'name': 'based on novel'}, {'id':...   \n",
       "4  [{'id': 1009, 'name': 'baby'}, {'id': 1599, 'n...   \n",
       "\n",
       "                                                cast  \\\n",
       "0  [{'cast_id': 14, 'character': 'Woody (voice)',...   \n",
       "1  [{'cast_id': 1, 'character': 'Alan Parrish', '...   \n",
       "2  [{'cast_id': 2, 'character': 'Max Goldman', 'c...   \n",
       "3  [{'cast_id': 1, 'character': \"Savannah 'Vannah...   \n",
       "4  [{'cast_id': 1, 'character': 'George Banks', '...   \n",
       "\n",
       "                                                crew  \n",
       "0  [{'credit_id': '52fe4284c3a36847f8024f49', 'de...  \n",
       "1  [{'credit_id': '52fe44bfc3a36847f80a7cd1', 'de...  \n",
       "2  [{'credit_id': '52fe466a9251416c75077a89', 'de...  \n",
       "3  [{'credit_id': '52fe44779251416c91011acb', 'de...  \n",
       "4  [{'credit_id': '52fe44959251416c75039ed7', 'de...  "
      ]
     },
     "execution_count": 212,
     "metadata": {},
     "output_type": "execute_result"
    }
   ],
   "source": [
    "import pandas as pd\n",
    "from sklearn.feature_extraction.text import TfidfVectorizer\n",
    "from sklearn.metrics.pairwise import cosine_similarity\n",
    "import ast\n",
    "\n",
    "# Load metadata\n",
    "metadata = pd.read_csv(\"movies dataset/movies_metadata.csv\", low_memory=False, nrows=5000)\n",
    "credits = pd.read_csv(\"movies dataset/credits.csv\", usecols=[\"id\", \"cast\", \"crew\"], nrows=3000)\n",
    "keywords = pd.read_csv(\"movies dataset/keywords.csv\", usecols=[\"id\", \"keywords\"], nrows=5000)\n",
    "\n",
    "#Save the file to upload in\n",
    "credits[['id', 'cast', 'crew']].to_csv(\"credits_small.csv\", index=False)\n",
    "\n",
    "# Clean up and prepare\n",
    "metadata = metadata.dropna(subset=['overview'])\n",
    "metadata = metadata[metadata['id'].apply(lambda x: str(x).isdigit())]\n",
    "metadata['id'] = metadata['id'].astype(int)\n",
    "credits['id'] = credits['id'].astype(int)\n",
    "keywords['id'] = keywords['id'].astype(int)\n",
    "\n",
    "# Merge credits and keywords into metadata\n",
    "metadata = metadata.merge(credits, on='id')\n",
    "metadata = metadata.merge(keywords, on='id')\n",
    "\n",
    "metadata = metadata[['title', 'overview', 'genres', 'keywords', 'cast', 'crew']]\n",
    "\n",
    "metadata.head()\n",
    "\n",
    "\n"
   ]
  },
  {
   "cell_type": "markdown",
   "id": "fcfe4d76-3ed4-418e-afa1-d521704209ad",
   "metadata": {},
   "source": [
    "The merged `metadata` dataset contains 6 essential columns per movie: title, overview, genres, keywords, cast, and crew. This preview confirms that the dataset was successfully loaded and merged. Each row now holds enough content-related information to extract similarity between movies.\n"
   ]
  },
  {
   "cell_type": "markdown",
   "id": "8b8f3dc7-0bc0-4d9f-a149-355709826821",
   "metadata": {},
   "source": [
    "### Task 2: Extract Features and Create Combined Text “Soup”\n",
    "\n",
    "In this task, I prepare features for content-based filtering by extracting structured data from the metadata fields.\n",
    "\n",
    "- `clean_names()`: extracts names from `genres` and `keywords`\n",
    "- `get_director()`: extracts the director’s name from `crew`\n",
    "- Top 3 actors are extracted from `cast`\n",
    "\n",
    "All extracted text is then combined into a single field called `soup`, which represents the movie’s content. This includes keywords, genres, cast, director, and overview. This unified string will be vectorized in the next step.\n"
   ]
  },
  {
   "cell_type": "code",
   "execution_count": 213,
   "id": "fe3502f0-0f35-47fc-bff5-5bcbe6b056bd",
   "metadata": {},
   "outputs": [
    {
     "data": {
      "text/html": [
       "<div>\n",
       "<style scoped>\n",
       "    .dataframe tbody tr th:only-of-type {\n",
       "        vertical-align: middle;\n",
       "    }\n",
       "\n",
       "    .dataframe tbody tr th {\n",
       "        vertical-align: top;\n",
       "    }\n",
       "\n",
       "    .dataframe thead th {\n",
       "        text-align: right;\n",
       "    }\n",
       "</style>\n",
       "<table border=\"1\" class=\"dataframe\">\n",
       "  <thead>\n",
       "    <tr style=\"text-align: right;\">\n",
       "      <th></th>\n",
       "      <th>title</th>\n",
       "      <th>soup</th>\n",
       "    </tr>\n",
       "  </thead>\n",
       "  <tbody>\n",
       "    <tr>\n",
       "      <th>0</th>\n",
       "      <td>Toy Story</td>\n",
       "      <td>jealousy toy boy friendship friends rivalry bo...</td>\n",
       "    </tr>\n",
       "    <tr>\n",
       "      <th>1</th>\n",
       "      <td>Jumanji</td>\n",
       "      <td>board game disappearance based on children's b...</td>\n",
       "    </tr>\n",
       "    <tr>\n",
       "      <th>2</th>\n",
       "      <td>Grumpier Old Men</td>\n",
       "      <td>fishing best friend duringcreditsstinger old m...</td>\n",
       "    </tr>\n",
       "    <tr>\n",
       "      <th>3</th>\n",
       "      <td>Waiting to Exhale</td>\n",
       "      <td>based on novel interracial relationship single...</td>\n",
       "    </tr>\n",
       "    <tr>\n",
       "      <th>4</th>\n",
       "      <td>Father of the Bride Part II</td>\n",
       "      <td>baby midlife crisis confidence aging daughter ...</td>\n",
       "    </tr>\n",
       "  </tbody>\n",
       "</table>\n",
       "</div>"
      ],
      "text/plain": [
       "                         title  \\\n",
       "0                    Toy Story   \n",
       "1                      Jumanji   \n",
       "2             Grumpier Old Men   \n",
       "3            Waiting to Exhale   \n",
       "4  Father of the Bride Part II   \n",
       "\n",
       "                                                soup  \n",
       "0  jealousy toy boy friendship friends rivalry bo...  \n",
       "1  board game disappearance based on children's b...  \n",
       "2  fishing best friend duringcreditsstinger old m...  \n",
       "3  based on novel interracial relationship single...  \n",
       "4  baby midlife crisis confidence aging daughter ...  "
      ]
     },
     "execution_count": 213,
     "metadata": {},
     "output_type": "execute_result"
    }
   ],
   "source": [
    "def clean_names(x):\n",
    "    if isinstance(x, str):\n",
    "        try:\n",
    "            return [i['name'] for i in ast.literal_eval(x)]\n",
    "        except:\n",
    "            return []\n",
    "    return []\n",
    "\n",
    "def get_director(crew):\n",
    "    if isinstance(crew, str):\n",
    "        try:\n",
    "            for i in ast.literal_eval(crew):\n",
    "                if i['job'] == 'Director':\n",
    "                    return i['name']\n",
    "        except:\n",
    "            return ''\n",
    "    return ''\n",
    "\n",
    "\n",
    "metadata['genres'] = metadata['genres'].apply(clean_names)\n",
    "metadata['keywords'] = metadata['keywords'].apply(clean_names)\n",
    "metadata['cast'] = metadata['cast'].apply(lambda x: [i['name'] for i in ast.literal_eval(x)][:3] if isinstance(x, str) else [])\n",
    "metadata['crew'] = metadata['crew'].apply(get_director)\n",
    "\n",
    "\n",
    "def create_soup(row):\n",
    "    return ' '.join(row['keywords']) + ' ' + ' '.join(row['genres']) + ' ' + ' '.join(row['cast']) + ' ' + row['crew'] + ' ' + row['overview']\n",
    "\n",
    "metadata['soup'] = metadata.apply(create_soup, axis=1)\n",
    "metadata[['title', 'soup']].head()\n"
   ]
  },
  {
   "cell_type": "markdown",
   "id": "31c5d2f3-e59f-4d79-b5f9-5166e28561c0",
   "metadata": {},
   "source": [
    "The `soup` column has been successfully created for each movie. It now holds a combination of features that describe the film. For example, for the movie \"Toy Story\", the soup might include terms like \"animation\", \"friendship\", \"Tom Hanks\", and a plot summary all in one string. This will allow the model to compare movies based on both descriptive and thematic content.\n"
   ]
  },
  {
   "cell_type": "markdown",
   "id": "e1d82037-6033-4643-8821-21940163afcb",
   "metadata": {},
   "source": [
    "### Task 3: Vectorize Movie Features and Compute Similarity\n",
    "\n",
    "I apply `TfidfVectorizer` to convert each movie’s soup into a vector of numeric values, where more important or unique words receive higher weights. The model ignores common English stop words.\n",
    "\n",
    "After vectorizing, I compute the **cosine similarity** between all movie pairs. This gives a similarity score between 0 and 1 for every combination of movies.\n",
    "\n",
    "Finally, I reset the index and build a reverse mapping (`indices`) from movie title to row index for fast look-up during recommendation.\n"
   ]
  },
  {
   "cell_type": "code",
   "execution_count": 214,
   "id": "7b944e67-53fc-48bf-8fa8-9f879305a2b8",
   "metadata": {},
   "outputs": [
    {
     "name": "stdout",
     "output_type": "stream",
     "text": [
      "['Toy Story 2', 'Small Soldiers', 'Toys', \"Child's Play 3\", \"Child's Play\", 'Stardust Memories', 'Take the Money and Run', 'Manhattan', 'Deconstructing Harry', 'Radio Days']\n"
     ]
    }
   ],
   "source": [
    "from sklearn.feature_extraction.text import TfidfVectorizer\n",
    "from sklearn.metrics.pairwise import cosine_similarity\n",
    "\n",
    "# Vectorize the soup\n",
    "tfidf = TfidfVectorizer(stop_words='english')\n",
    "tfidf_matrix = tfidf.fit_transform(metadata['soup'])\n",
    "\n",
    "# Compute cosine similarity\n",
    "cosine_sim = cosine_similarity(tfidf_matrix, tfidf_matrix)\n",
    "\n",
    "# Reset index to map titles\n",
    "metadata = metadata.reset_index()\n",
    "indices = pd.Series(metadata.index, index=metadata['title']).drop_duplicates()\n",
    "\n",
    "# Recommender function\n",
    "def get_recommendations(title, cosine_sim=cosine_sim):\n",
    "    idx = indices[title]\n",
    "    sim_scores = list(enumerate(cosine_sim[idx]))\n",
    "    sim_scores = sorted(sim_scores, key=lambda x: x[1], reverse=True)[1:11]\n",
    "    movie_indices = [i[0] for i in sim_scores]\n",
    "    return metadata['title'].iloc[movie_indices].tolist()\n",
    "\n",
    "# Try it\n",
    "print(get_recommendations('Toy Story'))\n"
   ]
  },
  {
   "cell_type": "markdown",
   "id": "12727239-33a8-4b5a-99ab-13bf995e8f54",
   "metadata": {},
   "source": [
    "The TF-IDF matrix has been successfully created. One row per movie and one column per word in the soup. The cosine similarity matrix is also built, allowing fast lookup of similar movies. This is the mathematical foundation for the content-based recommendation engine."
   ]
  },
  {
   "cell_type": "markdown",
   "id": "667b7c22-ac01-4ebb-8b75-bfc97c875c6e",
   "metadata": {},
   "source": [
    "### Task 4: Load and Explore User Ratings Dataset\n",
    "\n",
    "In this task, I load the `ratings_small.csv` file, which contains user-movie interactions. Each row represents a user rating a specific movie, and includes four columns: `userId`, `movieId`, `rating`, and `timestamp`.\n",
    "\n",
    "I preview the dataset using `.head()` and then count the number of unique users and unique movies. This data will be used to build a collaborative filtering recommendation model based on user behavior.\n"
   ]
  },
  {
   "cell_type": "code",
   "execution_count": 215,
   "id": "c67c3fe9-c070-480e-9702-552e20c83683",
   "metadata": {},
   "outputs": [
    {
     "name": "stdout",
     "output_type": "stream",
     "text": [
      "   userId  movieId  rating   timestamp\n",
      "0       1       31     2.5  1260759144\n",
      "1       1     1029     3.0  1260759179\n",
      "2       1     1061     3.0  1260759182\n",
      "3       1     1129     2.0  1260759185\n",
      "4       1     1172     4.0  1260759205\n",
      "671 unique users\n",
      "9066 unique movies\n"
     ]
    }
   ],
   "source": [
    "import pandas as pd\n",
    "\n",
    "# Load user ratings\n",
    "ratings = pd.read_csv(\"movies dataset/ratings_small.csv\")\n",
    "\n",
    "print(ratings.head())\n",
    "print(ratings['userId'].nunique(), \"unique users\")\n",
    "print(ratings['movieId'].nunique(), \"unique movies\")\n"
   ]
  },
  {
   "cell_type": "markdown",
   "id": "3b9cc5c3-a368-49cb-b7c3-44c6f1d7ddc1",
   "metadata": {},
   "source": [
    "The dataset contains **671 unique users** and **9066 unique movies**. Each row confirms that the dataset includes valid numerical ratings from users. This data will allow me to compute similarity between users or movies for collaborative filtering.\n"
   ]
  },
  {
   "cell_type": "markdown",
   "id": "7cbee1ac-dbf6-4f7f-aaab-726c5e11d25d",
   "metadata": {},
   "source": [
    "### Task 5: Create User-Item Matrix\n",
    "\n",
    "Here, I pivot the ratings dataset into a **user-item matrix**, where:\n",
    "- Rows represent users, Columns represent movies, Values are the ratings given by users\n",
    "\n",
    "This matrix is used for collaborative filtering, allowing to find similar users or movies based on rating patterns. I also calculate the percentage of missing values to measure sparsity.\n"
   ]
  },
  {
   "cell_type": "code",
   "execution_count": 216,
   "id": "aa0a49cf-b3ca-46ad-b7ae-e9c6f376ae8a",
   "metadata": {},
   "outputs": [
    {
     "name": "stdout",
     "output_type": "stream",
     "text": [
      "Matrix shape: (671, 9066)\n",
      "Missing values %: 98.35608583913366\n"
     ]
    }
   ],
   "source": [
    "# Creating a user-item rating matrix\n",
    "user_movie_matrix = ratings.pivot(index='userId', columns='movieId', values='rating')\n",
    "\n",
    "# Check shape and sparsity\n",
    "print(\"Matrix shape:\", user_movie_matrix.shape)\n",
    "print(\"Missing values %:\", user_movie_matrix.isna().sum().sum() / user_movie_matrix.size * 100)\n"
   ]
  },
  {
   "cell_type": "markdown",
   "id": "4195d151-8605-4427-a365-4c5e1e135821",
   "metadata": {},
   "source": [
    "The matrix has a shape of (671 users, 9066 movies), but over **98% of the entries are missing**, meaning most users have rated only a small number of movies. This sparsity makes collaborative filtering harder and justifies filtering for frequently rated movies in the next step.\n"
   ]
  },
  {
   "cell_type": "markdown",
   "id": "977fd167-0cdc-4b69-9de1-f3c00ea1ae9b",
   "metadata": {},
   "source": [
    "### Task 6: Filter for Popular Movies\n",
    "\n",
    "To reduce sparsity and improve recommendation quality, I filter the dataset to include only **movies rated by at least 50 users**. This helps focus the model on well-known titles with enough data to find meaningful similarities.\n",
    "\n",
    "After filtering, I rebuild the user-item matrix and fill in missing values with zeros, making it usable for cosine distance calculations in the KNN algorithm.\n"
   ]
  },
  {
   "cell_type": "code",
   "execution_count": 217,
   "id": "5bf6a841-3089-4c30-a2ae-1b7e911dbf16",
   "metadata": {},
   "outputs": [
    {
     "name": "stdout",
     "output_type": "stream",
     "text": [
      "Filtered matrix shape: (670, 453)\n"
     ]
    }
   ],
   "source": [
    "# Filter movies rated by at least 50 users\n",
    "movie_counts = ratings['movieId'].value_counts()\n",
    "popular_movies = movie_counts[movie_counts >= 50].index\n",
    "\n",
    "# Create a filtered user-item matrix\n",
    "filtered_ratings = ratings[ratings['movieId'].isin(popular_movies)]\n",
    "user_movie_matrix = filtered_ratings.pivot(index='userId', columns='movieId', values='rating').fillna(0)\n",
    "\n",
    "print(\"Filtered matrix shape:\", user_movie_matrix.shape)\n"
   ]
  },
  {
   "cell_type": "markdown",
   "id": "b5da4c6a-2a2c-410c-9930-c4a921442a6f",
   "metadata": {},
   "source": [
    "After filtering, the matrix contains fewer movies (e.g., ~450) but retains most users. This results in a denser and more meaningful user-item matrix for collaborative filtering. It also improves the performance of the KNN model in the next step.\n"
   ]
  },
  {
   "cell_type": "markdown",
   "id": "d4672299-33cc-4f5a-9da1-bb96c82c7fbc",
   "metadata": {},
   "source": [
    "### Task 7: Define Collaborative Filtering Recommender Function\n",
    "\n",
    "In this task, I define a recommendation function that uses the trained KNN model to suggest similar movies based on user rating patterns. \n",
    "\n",
    "I also:\n",
    "- Load movie title data from `movies_metadata.csv`\n",
    "- Match movie IDs to titles using a dictionary\n",
    "- Use `.kneighbors()` to find the top 10 most similar movies by cosine distance\n"
   ]
  },
  {
   "cell_type": "code",
   "execution_count": 218,
   "id": "b8a5efdb-7337-4c29-86eb-dfcebad6f21f",
   "metadata": {},
   "outputs": [
    {
     "name": "stdout",
     "output_type": "stream",
     "text": [
      "['The Searchers', 'The 39 Steps']\n"
     ]
    }
   ],
   "source": [
    "from sklearn.neighbors import NearestNeighbors\n",
    "import numpy as np\n",
    "\n",
    "movie_user_matrix = user_movie_matrix.T\n",
    "\n",
    "# Fit KNN\n",
    "model_knn = NearestNeighbors(metric='cosine', algorithm='brute')\n",
    "model_knn.fit(movie_user_matrix.values)\n",
    "\n",
    "# Map movie IDs to titles\n",
    "links = pd.read_csv(\"movies dataset/links_small.csv\")\n",
    "movie_id_to_title = pd.read_csv(\"movies dataset/movies_metadata_small.csv\", low_memory=False)[['id', 'title']]\n",
    "movie_id_to_title = movie_id_to_title[movie_id_to_title['id'].apply(lambda x: str(x).isdigit())]\n",
    "movie_id_to_title['id'] = movie_id_to_title['id'].astype(int)\n",
    "id_to_title = dict(zip(movie_id_to_title['id'], movie_id_to_title['title']))\n",
    "\n",
    "# Recommend movies based on a given movieId\n",
    "def get_movie_recommendations(movie_id, n_recommendations=10):\n",
    "    if movie_id not in movie_user_matrix.index:\n",
    "        return \"Movie ID not found in matrix.\"\n",
    "    \n",
    "    distances, indices = model_knn.kneighbors(\n",
    "        movie_user_matrix.loc[movie_id].values.reshape(1, -1), \n",
    "        n_neighbors=n_recommendations+1\n",
    "    )\n",
    "    \n",
    "    similar_ids = movie_user_matrix.index[indices.flatten()[1:]]\n",
    "    titles = [id_to_title[mid] for mid in similar_ids if mid in id_to_title]\n",
    "    \n",
    "    return titles\n",
    "\n",
    "# Try one!\n",
    "print(get_movie_recommendations(1))  # MovieId = 1 is Toy Story\n"
   ]
  },
  {
   "cell_type": "markdown",
   "id": "b3cc2bbb-28da-407d-a107-6f25a7b6c536",
   "metadata": {},
   "source": [
    "The function returned movies that are behaviorally similar to \"Toy Story\" based on collaborative filtering. These results are based on user rating trends and may include movies from different genres, reflecting how people rate across categories.\n"
   ]
  },
  {
   "cell_type": "markdown",
   "id": "ca665968-2f34-42b5-9202-46e7d8593b85",
   "metadata": {},
   "source": [
    "### Task 8: Add Title-Based Input with Partial Match Search\n",
    "\n",
    "In this task, I improve the collaborative recommendation function to accept movie titles directly instead of numeric IDs. \n",
    "\n",
    "If the title isn't found exactly, the function performs a partial match and suggests the closest match automatically. This makes the system more user-friendly and similar to real-world apps.\n"
   ]
  },
  {
   "cell_type": "code",
   "execution_count": 219,
   "id": "2ba94c5d-d9fc-4c90-87b9-7537a7b194f5",
   "metadata": {},
   "outputs": [
    {
     "name": "stdout",
     "output_type": "stream",
     "text": [
      "Did you mean: 'Batman Returns'?\n",
      "\n",
      "['To Kill a Mockingbird', 'Reservoir Dogs', 'Wag the Dog', 'A Nightmare on Elm Street']\n"
     ]
    }
   ],
   "source": [
    "def recommend_by_title(title, n_recommendations=10):\n",
    "    # Build the filtered lookup dictionary\n",
    "    filtered_movie_ids = user_movie_matrix.columns.tolist()\n",
    "    filtered_titles = [id_to_title.get(mid, f\"MovieID {mid}\") for mid in filtered_movie_ids]\n",
    "    title_to_filtered_id = dict(zip(filtered_titles, filtered_movie_ids))\n",
    "\n",
    "    # Trying exact match\n",
    "    if title in title_to_filtered_id:\n",
    "        movie_id = title_to_filtered_id[title]\n",
    "        return get_movie_recommendations(movie_id, n_recommendations)\n",
    "\n",
    "    # searching for partial matches if not found\n",
    "    matches = [t for t in title_to_filtered_id if title.lower() in t.lower()]\n",
    "    \n",
    "    if not matches:\n",
    "        return f\"Movie '{title}' not found in filtered dataset. No similar titles either.\"\n",
    "    \n",
    "    # If found, use the first closest match\n",
    "    best_match = matches[0]\n",
    "    print(f\"Did you mean: '{best_match}'?\\n\")\n",
    "    movie_id = title_to_filtered_id[best_match]\n",
    "    return get_movie_recommendations(movie_id, n_recommendations)\n",
    "\n",
    "print(recommend_by_title(\"batman\"))\n"
   ]
  },
  {
   "cell_type": "markdown",
   "id": "faf1b1b3-99f2-4e19-9a04-8c99459d995d",
   "metadata": {},
   "source": [
    "The function successfully handled a partial title input (\"batman\") and suggested \"Batman Returns\" as the closest match. It then returned a list of recommended movies based on similar user behavior. This enhancement improves usability and mimics the flexible input seen in platforms like Netflix or IMDb."
   ]
  },
  {
   "cell_type": "markdown",
   "id": "bd3f90dd-600f-43ce-b53c-37bf7048c306",
   "metadata": {},
   "source": [
    "### Task 9: Visualization\n",
    "\n",
    "#### Task 9a: Top 10 Most Rated Movies\n",
    "\n",
    "This bar chart shows the movies in the dataset that received the most user ratings. These movies often appear more frequently in collaborative filtering results due to their popularity and larger volume of user interaction data.\n"
   ]
  },
  {
   "cell_type": "code",
   "execution_count": 220,
   "id": "55eef175-d07a-47d5-a5f2-8f5431106974",
   "metadata": {},
   "outputs": [
    {
     "data": {
      "image/png": "[encoded data removed]",
      "text/plain": [
       "<Figure size 1000x500 with 1 Axes>"
      ]
     },
     "metadata": {},
     "output_type": "display_data"
    }
   ],
   "source": [
    "import matplotlib.pyplot as plt\n",
    "\n",
    "top_movies = ratings['movieId'].value_counts().head(10)\n",
    "top_titles = [id_to_title.get(mid, f\"MovieID {mid}\") for mid in top_movies.index]\n",
    "\n",
    "plt.figure(figsize=(10,5))\n",
    "plt.barh(top_titles[::-1], top_movies.values[::-1], color='lightblue')\n",
    "plt.title(\"Top 10 Most Rated Movies\")\n",
    "plt.xlabel(\"Number of Ratings\")\n",
    "plt.tight_layout()\n",
    "plt.show()\n"
   ]
  },
  {
   "attachments": {},
   "cell_type": "markdown",
   "id": "a05ac780-f574-4313-9117-9fb15ef99f8f",
   "metadata": {},
   "source": [
    "The most rated movies include \"The Million Dollar Hotel\" and others with more than 300 ratings. These titles are statistically more likely to be recommended in collaborative filtering due to high visibility in the user-item matrix, regardless of genre.\n",
    "\n",
    "\n",
    "### Task 9b: Visualize Top 10 Movie Genres\n",
    "\n",
    "In this task, I visualize the most common genres across all movies in the dataset. This helps me understand which genres dominate the dataset, which may affect the behavior of the content-based filtering model.\n"
   ]
  },
  {
   "cell_type": "code",
   "execution_count": 221,
   "id": "9fb9cfdd-6c6a-42df-bef8-adad4e7c9216",
   "metadata": {},
   "outputs": [
    {
     "data": {
      "image/png": "[encoded data removed]",
      "text/plain": [
       "<Figure size 1000x500 with 1 Axes>"
      ]
     },
     "metadata": {},
     "output_type": "display_data"
    }
   ],
   "source": [
    "from collections import Counter\n",
    "\n",
    "all_genres = sum(metadata['genres'], [])\n",
    "top_genres = Counter(all_genres).most_common(10)\n",
    "\n",
    "genres, counts = zip(*top_genres)\n",
    "plt.figure(figsize=(10,5))\n",
    "plt.bar(genres, counts, color='mediumseagreen')\n",
    "plt.title(\"Top 10 Genres in Dataset\")\n",
    "plt.xticks(rotation=45)\n",
    "plt.ylabel(\"Number of Movies\")\n",
    "plt.tight_layout()\n",
    "plt.show()\n"
   ]
  },
  {
   "cell_type": "markdown",
   "id": "b9bf9c10-fc1a-4f89-989c-50743bddbef5",
   "metadata": {},
   "source": [
    "Drama, Comedy, and Romance are the most common genres in the dataset. This suggests that recommendations may be biased toward these genres since they're statistically more likely to overlap with other movies in both content and metadata.\n"
   ]
  },
  {
   "cell_type": "markdown",
   "id": "833683b1-d6b2-4344-a181-762fa48ed7d8",
   "metadata": {},
   "source": [
    "### Task 11: Keyword Co-occurrence Heatmap\n",
    "\n",
    "Instead of just plotting individual keyword frequencies, I created a heatmap to visualize how often keywords appear together in the same movie. This allows me to discover deeper thematic pairings (e.g., \"murder\" + \"revenge\").\n"
   ]
  },
  {
   "cell_type": "code",
   "execution_count": null,
   "id": "470f5c64-3bce-4a54-a2d1-b968f7c8f2ee",
   "metadata": {},
   "outputs": [],
   "source": [
    "import matplotlib.pyplot as plt\n",
    "import seaborn as sns\n",
    "from collections import Counter\n",
    "from itertools import combinations\n",
    "\n",
    "# Step 1: Filter out only relevant rows\n",
    "filtered_keywords = metadata['keywords'].dropna()\n",
    "filtered_keywords = filtered_keywords[filtered_keywords.apply(lambda x: isinstance(x, list))]\n",
    "\n",
    "# Step 2: Count co-occurrences\n",
    "co_occur = Counter()\n",
    "for kw_list in filtered_keywords:\n",
    "    for pair in combinations(sorted(set(kw_list)), 2):  # Avoid duplicates\n",
    "        co_occur[pair] += 1\n",
    "\n",
    "# Step 3: Pick top 15 keywords to build square matrix\n",
    "top_keywords = [kw for kw, _ in Counter([kw for sublist in filtered_keywords for kw in sublist]).most_common(15)]\n",
    "\n",
    "# Step 4: Create co-occurrence matrix\n",
    "matrix = pd.DataFrame(0, index=top_keywords, columns=top_keywords)\n",
    "for (kw1, kw2), count in co_occur.items():\n",
    "    if kw1 in matrix.index and kw2 in matrix.columns:\n",
    "        matrix.loc[kw1, kw2] = count\n",
    "        matrix.loc[kw2, kw1] = count  # Symmetric\n",
    "\n",
    "# Step 5: Plot the heatmap\n",
    "plt.figure(figsize=(12, 10))\n",
    "sns.heatmap(matrix, cmap=\"YlGnBu\", linewidths=0.5, annot=True, fmt=\"d\")\n",
    "plt.title(\"Keyword Co-occurrence Heatmap\", fontsize=16)\n",
    "plt.tight_layout()\n",
    "plt.show()\n"
   ]
  },
  {
   "cell_type": "markdown",
   "id": "65342fd0-f13d-4b8f-aec9-f1d89ce3cbe5",
   "metadata": {},
   "source": [
    "The heatmap shows strong co-occurrence between keywords like “murder” and “revenge,” or “sex” and “nudity,” suggesting frequent narrative pairings. \n",
    "\n",
    "More nuanced patterns include “independent film” and “woman director,” which hint at recurring attributes in indie movies. This analysis helps explain how content-based filtering may group films with thematically similar metadata, even when genres differ.\n"
   ]
  }
 ],
 "metadata": {
  "kernelspec": {
   "display_name": "Python 3 (ipykernel)",
   "language": "python",
   "name": "python3"
  },
  "language_info": {
   "codemirror_mode": {
    "name": "ipython",
    "version": 3
   },
   "file_extension": ".py",
   "mimetype": "text/x-python",
   "name": "python",
   "nbconvert_exporter": "python",
   "pygments_lexer": "ipython3",
   "version": "3.12.7"
  }
 },
 "nbformat": 4,
 "nbformat_minor": 5
}
